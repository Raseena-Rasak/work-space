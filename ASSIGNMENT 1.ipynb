{
 "cells": [
  {
   "cell_type": "markdown",
   "id": "fc77cf68",
   "metadata": {},
   "source": [
    "## ASSIGNMENT 1"
   ]
  },
  {
   "cell_type": "markdown",
   "id": "a7a759af",
   "metadata": {},
   "source": [
    "# Question 1"
   ]
  },
  {
   "cell_type": "code",
   "execution_count": 1,
   "id": "fc55145b",
   "metadata": {},
   "outputs": [
    {
     "name": "stdout",
     "output_type": "stream",
     "text": [
      "Enter Name: Raseena Rasak\n",
      "Enter roll_number: 25\n",
      "Enter mark: 50\n",
      "Name:  Raseena Rasak\n",
      "Roll_number:  25\n",
      "Mark:  50\n"
     ]
    }
   ],
   "source": [
    "name=input('Enter Name: ')\n",
    "roll_number=int(input('Enter roll_number: '))\n",
    "mark=int(input('Enter mark: '))\n",
    "print('Name: ',name)\n",
    "print('Roll_number: ',roll_number)\n",
    "print('Mark: ',mark)"
   ]
  },
  {
   "cell_type": "markdown",
   "id": "a4e90603",
   "metadata": {},
   "source": [
    "# Question 2"
   ]
  },
  {
   "cell_type": "code",
   "execution_count": 2,
   "id": "c8cf2d16",
   "metadata": {},
   "outputs": [
    {
     "name": "stdout",
     "output_type": "stream",
     "text": [
      "enter temperature in fahrenheit: 41\n",
      "temperature in celsius=  5.0\n",
      "enter temperature in celsius 37\n",
      "temperature in fahrenheit  98.6\n"
     ]
    }
   ],
   "source": [
    "f=int(input('enter temperature in fahrenheit: '))\n",
    "c=((f-32)*(5/9))\n",
    "print('temperature in celsius= ',c)\n",
    "a=int(input('enter temperature in celsius '))\n",
    "b=a*9/5+32\n",
    "print('temperature in fahrenheit ',b)"
   ]
  },
  {
   "cell_type": "markdown",
   "id": "f81b6d5b",
   "metadata": {},
   "source": [
    "# Question 3"
   ]
  },
  {
   "cell_type": "code",
   "execution_count": 3,
   "id": "dd6d7160",
   "metadata": {},
   "outputs": [
    {
     "name": "stdout",
     "output_type": "stream",
     "text": [
      "Enter first number 23\n",
      "Enter second number 48\n",
      "Product =  1104\n"
     ]
    }
   ],
   "source": [
    "a=int(input('Enter first number '))\n",
    "b=int(input('Enter second number '))\n",
    "c=a*b\n",
    "print('Product = ',c)"
   ]
  },
  {
   "cell_type": "markdown",
   "id": "2d4acc67",
   "metadata": {},
   "source": [
    "# Question 4"
   ]
  },
  {
   "cell_type": "code",
   "execution_count": 4,
   "id": "39431fce",
   "metadata": {},
   "outputs": [
    {
     "name": "stdout",
     "output_type": "stream",
     "text": [
      "enter the message Learn **Python** by Developing a **Website**\n",
      "message\n"
     ]
    }
   ],
   "source": [
    "message=input('enter the message ')\n",
    "print('message')"
   ]
  },
  {
   "cell_type": "markdown",
   "id": "51906148",
   "metadata": {},
   "source": [
    "# Question 5"
   ]
  },
  {
   "cell_type": "code",
   "execution_count": 5,
   "id": "ef617f46",
   "metadata": {},
   "outputs": [
    {
     "name": "stdout",
     "output_type": "stream",
     "text": [
      "Enter the radius: 6\n",
      "area =  113.03999999999999\n"
     ]
    }
   ],
   "source": [
    "r=int(input('Enter the radius: '))\n",
    "print('area = ',3.14*r*r)"
   ]
  },
  {
   "cell_type": "markdown",
   "id": "43496001",
   "metadata": {},
   "source": [
    "# Question 6"
   ]
  },
  {
   "cell_type": "code",
   "execution_count": 6,
   "id": "697e8b9e",
   "metadata": {},
   "outputs": [
    {
     "name": "stdout",
     "output_type": "stream",
     "text": [
      "the number to be inserted = 27\n",
      "index= 4\n",
      "[82, 22, 43, 55, 27, 78] None\n"
     ]
    }
   ],
   "source": [
    "l1=[82,22,43,55,78]\n",
    "a=int(input('the number to be inserted = '))\n",
    "b=int(input('index= '))\n",
    "print(l1,l1.insert(b,a))"
   ]
  },
  {
   "cell_type": "markdown",
   "id": "aa18686e",
   "metadata": {},
   "source": [
    "# Question 7"
   ]
  },
  {
   "cell_type": "code",
   "execution_count": 7,
   "id": "b32260c6",
   "metadata": {},
   "outputs": [],
   "source": [
    "sample_dict = { \"name\": \"John\", \"age\":5, \"salary\": 8000, \"city\": \"New York\"}\n",
    "sample_dict['city']='Canada'\n"
   ]
  },
  {
   "cell_type": "code",
   "execution_count": 8,
   "id": "bfdf42a7",
   "metadata": {},
   "outputs": [
    {
     "data": {
      "text/plain": [
       "{'name': 'John', 'age': 5, 'salary': 8000, 'city': 'Canada'}"
      ]
     },
     "execution_count": 8,
     "metadata": {},
     "output_type": "execute_result"
    }
   ],
   "source": [
    "\n",
    "sample_dict"
   ]
  },
  {
   "cell_type": "markdown",
   "id": "e3b368ec",
   "metadata": {},
   "source": [
    "# Question 8"
   ]
  },
  {
   "cell_type": "code",
   "execution_count": 9,
   "id": "d2165455",
   "metadata": {},
   "outputs": [
    {
     "data": {
      "text/plain": [
       "500"
      ]
     },
     "execution_count": 9,
     "metadata": {},
     "output_type": "execute_result"
    }
   ],
   "source": [
    "sample_dict = {\n",
    "'emp1': {'name': 'John', 'salary': 7500},\n",
    "'emp2': {'name': 'Emma', 'salary': 8000},\n",
    "'emp3': {'name': 'Brad', 'salary': 500}\n",
    "}\n",
    "sample_dict['emp3']['salary']"
   ]
  },
  {
   "cell_type": "code",
   "execution_count": 10,
   "id": "f5168242",
   "metadata": {},
   "outputs": [],
   "source": [
    "sample_dict['emp3']['salary']=8500"
   ]
  },
  {
   "cell_type": "code",
   "execution_count": 11,
   "id": "5f5d33d6",
   "metadata": {},
   "outputs": [
    {
     "data": {
      "text/plain": [
       "{'emp1': {'name': 'John', 'salary': 7500},\n",
       " 'emp2': {'name': 'Emma', 'salary': 8000},\n",
       " 'emp3': {'name': 'Brad', 'salary': 8500}}"
      ]
     },
     "execution_count": 11,
     "metadata": {},
     "output_type": "execute_result"
    }
   ],
   "source": [
    "sample_dict"
   ]
  },
  {
   "cell_type": "markdown",
   "id": "605b52d7",
   "metadata": {},
   "source": [
    "# Question 9"
   ]
  },
  {
   "cell_type": "code",
   "execution_count": 12,
   "id": "79c559e3",
   "metadata": {},
   "outputs": [
    {
     "name": "stdout",
     "output_type": "stream",
     "text": [
      "t2 = (43, 54)\n"
     ]
    }
   ],
   "source": [
    "t1 = (10, 20, 43, 54, 56, 68)\n",
    "t2=(t1[2],t1[3])\n",
    "print('t2 =',t2)"
   ]
  },
  {
   "cell_type": "markdown",
   "id": "423de103",
   "metadata": {},
   "source": [
    "# Question 10"
   ]
  },
  {
   "cell_type": "code",
   "execution_count": 13,
   "id": "8eb3c26d",
   "metadata": {},
   "outputs": [
    {
     "data": {
      "text/plain": [
       "3"
      ]
     },
     "execution_count": 13,
     "metadata": {},
     "output_type": "execute_result"
    }
   ],
   "source": [
    "t1 = (50,10,60,70,50,83,567,50,81)\n",
    "t1.count(50)"
   ]
  }
 ],
 "metadata": {
  "kernelspec": {
   "display_name": "Python 3 (ipykernel)",
   "language": "python",
   "name": "python3"
  },
  "language_info": {
   "codemirror_mode": {
    "name": "ipython",
    "version": 3
   },
   "file_extension": ".py",
   "mimetype": "text/x-python",
   "name": "python",
   "nbconvert_exporter": "python",
   "pygments_lexer": "ipython3",
   "version": "3.9.13"
  }
 },
 "nbformat": 4,
 "nbformat_minor": 5
}
