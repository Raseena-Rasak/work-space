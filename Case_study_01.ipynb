{
 "cells": [
  {
   "cell_type": "markdown",
   "id": "98a60cea",
   "metadata": {},
   "source": [
    "# CASE STUDY"
   ]
  },
  {
   "cell_type": "raw",
   "id": "40b9feeb",
   "metadata": {},
   "source": [
    "1. A school has following rules for grading system:\n",
    "   a. Below 25 - F\n",
    "   b. 25 to 45 - E\n",
    "   c. 45 to 50 - D\n",
    "   d. 50 to 60 - C\n",
    "   e. 60 to 80 - B\n",
    "   f. Above 80 - A\n",
    "   Ask user to enter marks and print the corresponding grade."
   ]
  },
  {
   "cell_type": "code",
   "execution_count": 1,
   "id": "a059305d",
   "metadata": {},
   "outputs": [
    {
     "name": "stdout",
     "output_type": "stream",
     "text": [
      "enter the marks 85\n",
      "A\n"
     ]
    }
   ],
   "source": [
    "a=int(input('enter the marks '))\n",
    "if a > 80:\n",
    "    print('A')\n",
    "elif a<=80& a>60:\n",
    "    print('B')\n",
    "elif a<=60&a>50:\n",
    "    print('C')\n",
    "elif a<=50&a>45:\n",
    "    print('D')\n",
    "elif a<=45&a>=25:\n",
    "    print('E')\n",
    "else: \n",
    "    print('F',a<25)"
   ]
  },
  {
   "cell_type": "raw",
   "id": "5485ce95",
   "metadata": {},
   "source": [
    "2. You have a list of names. Create a new list which contains only the names\n",
    "   with non-repeating characters.\n",
    "   Sample input = [‘John’,’Peter’,’Meera’,’Mini’,’Krishna’]\n",
    "   Sample output = [‘John’,Krishna]"
   ]
  },
  {
   "cell_type": "code",
   "execution_count": 2,
   "id": "329279e9",
   "metadata": {},
   "outputs": [
    {
     "name": "stdout",
     "output_type": "stream",
     "text": [
      "Original List:  ['John', 'Peter', 'Meera', 'Mini', 'Krishna']\n",
      "List after removing duplicate elements:  ['John', 'Mini', 'Meera', 'Peter', 'Krishna']\n"
     ]
    }
   ],
   "source": [
    "l = ['John','Peter','Meera','Mini','Krishna']\n",
    "print(\"Original List: \", l)\n",
    "res = [*set(l)]\n",
    "print(\"List after removing duplicate elements: \", res)"
   ]
  },
  {
   "cell_type": "raw",
   "id": "db42ed6c",
   "metadata": {},
   "source": [
    "3. Take values of length and breadth of a rectangle from user and check if it\n",
    "   is square or not."
   ]
  },
  {
   "cell_type": "code",
   "execution_count": 3,
   "id": "35806dfe",
   "metadata": {},
   "outputs": [
    {
     "name": "stdout",
     "output_type": "stream",
     "text": [
      "enter length= 8\n",
      "enter breadth= 8\n",
      "It is a square\n"
     ]
    }
   ],
   "source": [
    "l=int(input('enter length= '))\n",
    "b=int(input('enter breadth= '))\n",
    "if l==b:\n",
    "    print('It is a square')\n",
    "else: \n",
    "    print('It is not a square')"
   ]
  },
  {
   "cell_type": "raw",
   "id": "8d61d9e0",
   "metadata": {},
   "source": [
    "4. A student will not be allowed to sit in exam if his/her attendance is less\n",
    "   than 75%. Take following input from user Number of classes held\n",
    "   Number of classes attended. And print percentage of class attended Is\n",
    "   student is allowed to sit in exam or not.\n"
   ]
  },
  {
   "cell_type": "code",
   "execution_count": 4,
   "id": "4aa7461d",
   "metadata": {},
   "outputs": [
    {
     "name": "stdout",
     "output_type": "stream",
     "text": [
      "number of classes held= 100\n",
      "number of classes attended= 85\n",
      "Percentage of class attended is  85.0\n",
      "Allowed\n"
     ]
    }
   ],
   "source": [
    "a=int(input('number of classes held= '))\n",
    "b=int(input('number of classes attended= '))\n",
    "p=b/a*100\n",
    "print('Percentage of class attended is ',p)\n",
    "if p<75:\n",
    "    print('Not Allowed')\n",
    "else:\n",
    "    print('Allowed')"
   ]
  },
  {
   "cell_type": "raw",
   "id": "b814f4f2",
   "metadata": {},
   "source": [
    "5. Create a list by taking length of the list and elements of the list from user.\n",
    "   Then find the sum of the elements of the list. Also create a new called even\n",
    "   list which contains only even numbers from first list and odd list which\n",
    "   contains odd numbers from the list.\n",
    "   Sample input:\n",
    "   Length of the list = 5\n",
    "   List1 = [2,6,3,1,5]\n",
    "   Sum = 17\n",
    "   Even_list=[2,6]\n",
    "   Odd_list=[3,1,5]"
   ]
  },
  {
   "cell_type": "code",
   "execution_count": 6,
   "id": "ae15b5fc",
   "metadata": {},
   "outputs": [
    {
     "name": "stdout",
     "output_type": "stream",
     "text": [
      "even number in the list  2\n",
      "even number in the list  6\n",
      "Odd numbers in the list:  3\n",
      "Odd numbers in the list:  1\n",
      "Odd numbers in the list:  5\n"
     ]
    }
   ],
   "source": [
    "list1 = [2,6,3,1,5]\n",
    "even_n, odd_n = 0, 0\n",
    "for num in list1:\n",
    "    if num % 2 == 0:\n",
    "        print('even number in the list ',num)\n",
    "    else:\n",
    "        odd_n += 1\n",
    "        print(\"Odd numbers in the list: \",num)\n",
    "\n"
   ]
  },
  {
   "cell_type": "raw",
   "id": "c3dff1a1",
   "metadata": {},
   "source": [
    "9. Write a Python program to find the prime numbers in a given range. Get \n",
    "   the range from user and print prime numbers in that range.\n"
   ]
  },
  {
   "cell_type": "code",
   "execution_count": 7,
   "id": "43632ba5",
   "metadata": {},
   "outputs": [
    {
     "name": "stdout",
     "output_type": "stream",
     "text": [
      "Enter the Lowest Range Value: 1\n",
      "Enter the Upper Range Value: 50\n",
      "The Prime Numbers in the range are: \n",
      "2\n",
      "3\n",
      "5\n",
      "7\n",
      "11\n",
      "13\n",
      "17\n",
      "19\n",
      "23\n",
      "29\n",
      "31\n",
      "37\n",
      "41\n",
      "43\n",
      "47\n"
     ]
    }
   ],
   "source": [
    "l= int(input (\"Enter the Lowest Range Value: \"))  \n",
    "u= int(input (\"Enter the Upper Range Value: \"))  \n",
    "  \n",
    "print (\"The Prime Numbers in the range are: \")  \n",
    "for number in range (l, u + 1):  \n",
    "    if number > 1:  \n",
    "        for i in range (2, number):  \n",
    "            if (number % i) == 0:  \n",
    "                break  \n",
    "        else:  \n",
    "            print (number)  "
   ]
  },
  {
   "cell_type": "raw",
   "id": "3f1b08c1",
   "metadata": {},
   "source": [
    "10. Write a Python program to print Fibonacci series in a given range. Get \n",
    "    the range from user and print fibonacci numbers in that range."
   ]
  },
  {
   "cell_type": "code",
   "execution_count": 8,
   "id": "1d613f91",
   "metadata": {},
   "outputs": [
    {
     "name": "stdout",
     "output_type": "stream",
     "text": [
      "enter i= 50\n",
      "1\n",
      "1\n",
      "2\n",
      "3\n",
      "5\n",
      "8\n",
      "13\n",
      "21\n",
      "34\n"
     ]
    }
   ],
   "source": [
    "x,y=0,1\n",
    "a=int(input('enter i= '))\n",
    "while y<a:\n",
    "    print(y)\n",
    "    x,y = y,x+y"
   ]
  }
 ],
 "metadata": {
  "kernelspec": {
   "display_name": "Python 3 (ipykernel)",
   "language": "python",
   "name": "python3"
  },
  "language_info": {
   "codemirror_mode": {
    "name": "ipython",
    "version": 3
   },
   "file_extension": ".py",
   "mimetype": "text/x-python",
   "name": "python",
   "nbconvert_exporter": "python",
   "pygments_lexer": "ipython3",
   "version": "3.9.13"
  }
 },
 "nbformat": 4,
 "nbformat_minor": 5
}
