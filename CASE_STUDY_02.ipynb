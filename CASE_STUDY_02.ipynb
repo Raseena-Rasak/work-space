{
 "cells": [
  {
   "cell_type": "raw",
   "id": "9e930bfe",
   "metadata": {},
   "source": [
    "1. Write a Python function to sum all the numbers in a list. (Create a list and get list elements from user)"
   ]
  },
  {
   "cell_type": "code",
   "execution_count": 1,
   "id": "570575a2",
   "metadata": {},
   "outputs": [
    {
     "name": "stdout",
     "output_type": "stream",
     "text": [
      "no of elements4\n",
      "enter the element of the list5\n",
      "enter the element of the list6\n",
      "enter the element of the list7\n",
      "enter the element of the list8\n",
      "[5, 6, 7, 8]\n",
      "Sum is  26\n"
     ]
    }
   ],
   "source": [
    "def summ(num):\n",
    "    sum= 0\n",
    "    for i in num:\n",
    "        sum+= i\n",
    "    return sum\n",
    "l=[]\n",
    "n=int(input('no of elements'))\n",
    "for i in range(1,n+1):\n",
    "    x=int(input('enter the element of the list'))\n",
    "    l.append(x)\n",
    "print(l) \n",
    "\n",
    "print('Sum is ',summ(l))"
   ]
  },
  {
   "cell_type": "raw",
   "id": "95157c6f",
   "metadata": {},
   "source": [
    "2. Write a Python function that checks whether a passed string is palindrome or not."
   ]
  },
  {
   "cell_type": "code",
   "execution_count": 2,
   "id": "ebb4f054",
   "metadata": {},
   "outputs": [
    {
     "name": "stdout",
     "output_type": "stream",
     "text": [
      "enter the string malayalam\n",
      "The string is Palindrome\n"
     ]
    }
   ],
   "source": [
    "def isPalindrome(s):\n",
    "    return s == s[::-1]\n",
    "  \n",
    "\n",
    "s = input('enter the string ')\n",
    "ans = isPalindrome(s)\n",
    "  \n",
    "if ans:\n",
    "    print('The string is Palindrome')\n",
    "else:\n",
    "    print('The string is not a Palindrome')"
   ]
  },
  {
   "cell_type": "raw",
   "id": "2555cfed",
   "metadata": {},
   "source": [
    "3. Write a Python recursive function to find the Fibonacci series. Get the limit\n",
    "from the user"
   ]
  },
  {
   "cell_type": "code",
   "execution_count": 3,
   "id": "2b21c040",
   "metadata": {},
   "outputs": [
    {
     "name": "stdout",
     "output_type": "stream",
     "text": [
      "Enter number of terms:20\n",
      "Fibonacci sequence:\n",
      "0\n",
      "1\n",
      "1\n",
      "2\n",
      "3\n",
      "5\n",
      "8\n",
      "13\n",
      "21\n",
      "34\n",
      "55\n",
      "89\n",
      "144\n",
      "233\n",
      "377\n",
      "610\n",
      "987\n",
      "1597\n",
      "2584\n",
      "4181\n"
     ]
    }
   ],
   "source": [
    "def fibonacci(n):\n",
    "    if(n <= 1):\n",
    "        return n\n",
    "    else:\n",
    "        return(fibonacci(n-1) + fibonacci(n-2))\n",
    "n = int(input(\"Enter number of terms:\"))\n",
    "print(\"Fibonacci sequence:\")\n",
    "for i in range(n):\n",
    "    print(fibonacci(i))"
   ]
  },
  {
   "cell_type": "raw",
   "id": "6adc9b03",
   "metadata": {},
   "source": [
    "4. Write a Python recursive function to print the multiplication table of\n",
    "given number"
   ]
  },
  {
   "cell_type": "code",
   "execution_count": 4,
   "id": "b165b9f6",
   "metadata": {},
   "outputs": [
    {
     "name": "stdout",
     "output_type": "stream",
     "text": [
      "enter the number 10\n",
      "10 * 1 = 10\n",
      "10 * 2 = 20\n",
      "10 * 3 = 30\n",
      "10 * 4 = 40\n",
      "10 * 5 = 50\n",
      "10 * 6 = 60\n",
      "10 * 7 = 70\n",
      "10 * 8 = 80\n",
      "10 * 9 = 90\n",
      "10 * 10 = 100\n"
     ]
    }
   ],
   "source": [
    "def mul_table(N, i): \n",
    "    if (i > 10):\n",
    "        return\n",
    "    print(N,\"*\",i,\"=\",N * i)\n",
    "    return mul_table(N, i + 1)\n",
    "N =int(input('enter the number '))\n",
    "mul_table(N, 1)"
   ]
  },
  {
   "cell_type": "raw",
   "id": "61cb9405",
   "metadata": {},
   "source": [
    "5. Define a function which counts vowels and consonant in a word."
   ]
  },
  {
   "cell_type": "code",
   "execution_count": 5,
   "id": "dae5fab9",
   "metadata": {},
   "outputs": [
    {
     "name": "stdout",
     "output_type": "stream",
     "text": [
      "Enter a String : raseenarasak\n",
      "Vowels : 6 Consonants: 6\n"
     ]
    }
   ],
   "source": [
    "string = input(\"Enter a String : \")   \n",
    "vowels = 0 \n",
    "consonants = 0 \n",
    "for i in string:  \n",
    "    if i in ('a', 'e', 'i', 'o', 'u','A', 'E', 'I', 'O', 'U'):  \n",
    "        vowels+=1 \n",
    "    else: \n",
    "        i.isalpha() \n",
    "        consonants+=1\n",
    "print(\"Vowels :\",vowels,\"Consonants:\",consonants)"
   ]
  },
  {
   "cell_type": "raw",
   "id": "87be4f29",
   "metadata": {},
   "source": [
    "6. Define a function that accepts lowercase words and returns uppercase words."
   ]
  },
  {
   "cell_type": "code",
   "execution_count": 6,
   "id": "7014bfb9",
   "metadata": {},
   "outputs": [
    {
     "name": "stdout",
     "output_type": "stream",
     "text": [
      "Enter a word: raseena\n",
      "RASEENA\n"
     ]
    }
   ],
   "source": [
    "def change_to_uppercase(word):\n",
    "    lower=''\n",
    "    for char in word:\n",
    "        if char is lower:\n",
    "            word.upper()\n",
    "        else:\n",
    "            print(word)\n",
    "    return lower\n",
    "word = str(input(\"Enter a word: \" ))\n",
    "print(word.upper())\n",
    "\n"
   ]
  },
  {
   "cell_type": "raw",
   "id": "6fb547ce",
   "metadata": {},
   "source": [
    "7. Write a Python program to remove ‘None’ values from a given list using\n",
    "the lambda function.\n",
    "Given input = [12, 0, None, 23, None, -55, 234, 89, None, 0, 6, -12]\n",
    "Expected output = [12, 0, 23, -55, 234, 89, 0, 6, -12]"
   ]
  },
  {
   "cell_type": "code",
   "execution_count": 7,
   "id": "76b09add",
   "metadata": {},
   "outputs": [
    {
     "name": "stdout",
     "output_type": "stream",
     "text": [
      "Given input:\n",
      "[12, 0, None, 23, None, -55, 234, 89, None, 0, 6, -12]\n",
      "Expected output:\n",
      "[12, 0, 23, -55, 234, 89, 0, 6, -12]\n"
     ]
    }
   ],
   "source": [
    "def remove_none(nums):\n",
    "    result = filter(lambda v: v is not None, nums)\n",
    "    return list(result)\n",
    "\n",
    "nums = [12, 0, None, 23, None, -55, 234, 89, None, 0, 6, -12]\n",
    "print(\"Given input:\")\n",
    "print(nums)\n",
    "print(\"Expected output:\")\n",
    "print(remove_none(nums))"
   ]
  },
  {
   "cell_type": "raw",
   "id": "37e60152",
   "metadata": {},
   "source": [
    "8. Write a Rectangle class in Python language, allowing you to build a\n",
    "rectangle with length and width attributes.\n",
    "a. Create a Perimeter() method to calculate the perimeter of the\n",
    "rectangle and a Area() method to calculate the area of the rectangle.\n",
    "b. Create a method display() that display the length, width, perimeter\n",
    "and area of an object created using an instantiation on rectangle\n",
    "class.\n",
    "c. Create a Parallelepiped child class inheriting from the Rectangle\n",
    "class and with a height attribute and another Volume() method to\n",
    "calculate the volume of the Parallelepiped."
   ]
  },
  {
   "cell_type": "code",
   "execution_count": 21,
   "id": "2336ab94",
   "metadata": {},
   "outputs": [
    {
     "name": "stdout",
     "output_type": "stream",
     "text": [
      "enter the length 4\n",
      "enter the width 5\n",
      "enter the height 2\n",
      "The length of rectangle is:  4\n",
      "The width of rectangle is:  5\n",
      "The perimeter of rectangle is:  18\n",
      "The area of rectangle is:  20\n",
      "the volume of myParallelepipede is:  40\n"
     ]
    }
   ],
   "source": [
    "class Rectangle:\n",
    "    def __init__(self, length , width):\n",
    "        self.length = length\n",
    "        self.width = width\n",
    "        \n",
    "    def Perimeter(self):\n",
    "        return 2*(self.length + self.width)\n",
    "    \n",
    "    def Area(self):\n",
    "        return self.length*self.width   \n",
    "    \n",
    "    def display(self):\n",
    "        print(\"The length of rectangle is: \", self.length)\n",
    "        print(\"The width of rectangle is: \", self.width)\n",
    "        print(\"The perimeter of rectangle is: \", self.Perimeter())\n",
    "        print(\"The area of rectangle is: \", self.Area())\n",
    "class Parallelepipede(Rectangle):\n",
    "    def __init__(self, length, width , height):\n",
    "        Rectangle.__init__(self, length, width)\n",
    "        self.height = height\n",
    "        \n",
    "    def volume(self):\n",
    "        return self.length*self.width*self.height\n",
    "length=int(input('enter the length '))    \n",
    "width=int(input('enter the width '))  \n",
    "height=int(input('enter the height '))\n",
    "myRectangle = Rectangle(length,width)\n",
    "myRectangle.display()\n",
    "\n",
    "myParallelepipede = Parallelepipede(length,width,height)\n",
    "print(\"the volume of myParallelepipede is: \" , myParallelepipede.volume())"
   ]
  },
  {
   "cell_type": "raw",
   "id": "4baec9b0",
   "metadata": {},
   "source": [
    "9. Create a Python class called BankAccount which represents a bank account, having as attributes: accountNumber (numeric type), name\n",
    "(name of the account owner as string type), balance.\n",
    "    a. Create a constructor with parameters: accountNumber, name,\n",
    "       balance.\n",
    "    b. Create a Deposit() method which manages the deposit actions.\n",
    "    c. Create a Withdrawal() method which manages withdrawals\n",
    "       actions.\n",
    "    d. Create an bankFees() method to apply the bank fees with a\n",
    "       percentage of 5% of the balance account.\n",
    "    e. Create a display() method to display account details.\n",
    "    f. Give the complete code for the BankAccount class."
   ]
  },
  {
   "cell_type": "code",
   "execution_count": 25,
   "id": "5ab974a6",
   "metadata": {},
   "outputs": [
    {
     "ename": "NameError",
     "evalue": "name 'accountnumber' is not defined",
     "output_type": "error",
     "traceback": [
      "\u001b[1;31m---------------------------------------------------------------------------\u001b[0m",
      "\u001b[1;31mNameError\u001b[0m                                 Traceback (most recent call last)",
      "\u001b[1;32m~\\AppData\\Local\\Temp\\ipykernel_29076\\1051260570.py\u001b[0m in \u001b[0;36m<module>\u001b[1;34m\u001b[0m\n\u001b[0;32m     19\u001b[0m     \u001b[1;32mdef\u001b[0m \u001b[0mdisplay\u001b[0m\u001b[1;33m(\u001b[0m\u001b[0mself\u001b[0m\u001b[1;33m)\u001b[0m\u001b[1;33m:\u001b[0m\u001b[1;33m\u001b[0m\u001b[1;33m\u001b[0m\u001b[0m\n\u001b[0;32m     20\u001b[0m         \u001b[0mprint\u001b[0m\u001b[1;33m(\u001b[0m\u001b[1;34m\"Net Available Balance=\"\u001b[0m\u001b[1;33m,\u001b[0m\u001b[0mself\u001b[0m\u001b[1;33m.\u001b[0m\u001b[0mbalance\u001b[0m\u001b[1;33m)\u001b[0m\u001b[1;33m\u001b[0m\u001b[1;33m\u001b[0m\u001b[0m\n\u001b[1;32m---> 21\u001b[1;33m \u001b[0ms\u001b[0m \u001b[1;33m=\u001b[0m \u001b[0maccountnumber\u001b[0m\u001b[1;33m(\u001b[0m\u001b[1;33m)\u001b[0m\u001b[1;33m\u001b[0m\u001b[1;33m\u001b[0m\u001b[0m\n\u001b[0m\u001b[0;32m     22\u001b[0m \u001b[0ms\u001b[0m\u001b[1;33m.\u001b[0m\u001b[0mdeposit\u001b[0m\u001b[1;33m(\u001b[0m\u001b[1;33m)\u001b[0m\u001b[1;33m\u001b[0m\u001b[1;33m\u001b[0m\u001b[0m\n\u001b[0;32m     23\u001b[0m \u001b[0ms\u001b[0m\u001b[1;33m.\u001b[0m\u001b[0mwithdraw\u001b[0m\u001b[1;33m(\u001b[0m\u001b[1;33m)\u001b[0m\u001b[1;33m\u001b[0m\u001b[1;33m\u001b[0m\u001b[0m\n",
      "\u001b[1;31mNameError\u001b[0m: name 'accountnumber' is not defined"
     ]
    }
   ],
   "source": [
    "class Bank_Account:\n",
    "    def __init__(self,name,accountnumber,balance):\n",
    "        self.name=str(input('enter name '))\n",
    "        self.accountnumber=0\n",
    "        self.balance=0\n",
    "        #print(\"Welcome to Deposit & Withdrawal Machine!\")\n",
    "        \n",
    "    def deposit(self):\n",
    "        amount=float(input(\"Enter amount to be deposited: \"))\n",
    "        self.balance += amount\n",
    "        print(\"Amount Deposited: \",amount)\n",
    "    def withdraw(self):\n",
    "        amount = float(input(\"Enter amount to withdraw: \"))\n",
    "        if self.balance>=amount:\n",
    "            self.balance-=amount\n",
    "            print(\"You withdraw: \",amount)\n",
    "        else:\n",
    "            print(\"Insufficient balance \")\n",
    "    def display(self):\n",
    "        print(\"Net Available Balance=\",self.balance)\n",
    "s = accountnumber()\n",
    "s.deposit()\n",
    "s.withdraw()\n",
    "s.display()"
   ]
  },
  {
   "cell_type": "raw",
   "id": "e70ddc91",
   "metadata": {},
   "source": [
    "10. Create a base class rectangle with attributes length and breadth, methods area and perimeter.\n",
    "    a. Save the rectangle class as a python file rectangle.py file.\n",
    "    b. Open another python script and import the rectangle.py file.\n",
    "    c. In the newly created script derive a child class called Parallelepiped\n",
    "       class inheriting from the Rectangle class and with a height attribute\n",
    "       and another Volume() method to calculate the volume of the\n",
    "       Parallelepiped.\n",
    "    d. Now create objects for parent class and child class in newly created\n",
    "       script and access methods of parent class and child class.\n",
    "       (Upload the rectangle.py file and python script of question 10 as\n",
    "       separate files in github and share the link Paatshala)"
   ]
  },
  {
   "cell_type": "code",
   "execution_count": null,
   "id": "85c49ad4",
   "metadata": {},
   "outputs": [],
   "source": []
  },
  {
   "cell_type": "code",
   "execution_count": null,
   "id": "e8b933e6",
   "metadata": {},
   "outputs": [],
   "source": []
  }
 ],
 "metadata": {
  "kernelspec": {
   "display_name": "Python 3 (ipykernel)",
   "language": "python",
   "name": "python3"
  },
  "language_info": {
   "codemirror_mode": {
    "name": "ipython",
    "version": 3
   },
   "file_extension": ".py",
   "mimetype": "text/x-python",
   "name": "python",
   "nbconvert_exporter": "python",
   "pygments_lexer": "ipython3",
   "version": "3.9.13"
  }
 },
 "nbformat": 4,
 "nbformat_minor": 5
}
